{
 "cells": [
  {
   "cell_type": "markdown",
   "metadata": {
    "toc": true
   },
   "source": [
    "<h1>Table of Contents<span class=\"tocSkip\"></span></h1>\n",
    "<div class=\"toc\"><ul class=\"toc-item\"></ul></div>"
   ]
  },
  {
   "cell_type": "markdown",
   "metadata": {},
   "source": [
    "This is an implementation of the paper \"De Bruijn Sequences: From Games to Shift-Rules to a Proof of the  Fredricksen-Kessler-Maiorana Theorem\""
   ]
  },
  {
   "cell_type": "code",
   "execution_count": null,
   "metadata": {
    "ExecuteTime": {
     "end_time": "2020-11-18T12:28:15.055770Z",
     "start_time": "2020-11-18T12:28:15.044770Z"
    }
   },
   "outputs": [],
   "source": [
    "# global var\n",
    "k = 10\n",
    "\n",
    "def val(s):\n",
    "    n = len(s)\n",
    "    return sum([s[- i] * (k ** (i - 1)) for i in range(1, n + 1)])\n",
    "assert (val([1, 2, 3, 4, 5])) == 12345\n",
    "assert (val([2, 3, 4, 5, 1])) == 23451"
   ]
  },
  {
   "cell_type": "code",
   "execution_count": null,
   "metadata": {
    "ExecuteTime": {
     "end_time": "2020-11-18T12:28:15.080298Z",
     "start_time": "2020-11-18T12:28:15.061477Z"
    }
   },
   "outputs": [],
   "source": [
    "def val_star(s):\n",
    "    n = len(s)\n",
    "    return max([val(s[i:] + s[:i]) for i in range(n)])\n",
    "\n",
    "assert 51234 == (val_star([1, 2, 3, 4, 5]))\n",
    "assert 55153 == (val_star([1, 5, 3, 5, 5]))"
   ]
  },
  {
   "cell_type": "code",
   "execution_count": null,
   "metadata": {
    "ExecuteTime": {
     "end_time": "2020-11-18T12:28:15.099297Z",
     "start_time": "2020-11-18T12:28:15.084298Z"
    }
   },
   "outputs": [],
   "source": [
    "def rotate_zeros(s):\n",
    "    return s if s[0]!=0 else rotate_zeros(s[1:]+s[:1])\n",
    "\n",
    "assert [5, 1, 2, 3, 4, 0, 0] == rotate_zeros([0, 0, 5, 1, 2, 3, 4])\n",
    "assert [5, 1, 2, 3, 4] == rotate_zeros([5, 1, 2, 3, 4])\n",
    "assert [5, 1, 2, 3, 4, 0, 0] == rotate_zeros([0, 5, 1, 2, 3, 4, 0])\n",
    "assert [5, 1, 2, 3, 4, 0, 0] == rotate_zeros([5, 1, 2, 3, 4, 0, 0])\n",
    "\n",
    "def a_dagger(s):\n",
    "    return s[-1] != 0 and val_star(s)==val(rotate_zeros(s))\n",
    "\n",
    "\n",
    "assert a_dagger([0, 0, 5, 1, 2, 3, 4])\n",
    "assert not a_dagger([5, 1, 2, 3, 4, 0, 0])\n",
    "assert not a_dagger([0, 5, 1, 2, 3, 4, 0])\n"
   ]
  },
  {
   "cell_type": "code",
   "execution_count": null,
   "metadata": {
    "ExecuteTime": {
     "end_time": "2020-11-18T12:28:32.129216Z",
     "start_time": "2020-11-18T12:28:32.083702Z"
    }
   },
   "outputs": [],
   "source": [
    "def shift(s):\n",
    "    n = len(s)\n",
    "    x = s[:-1]\n",
    "    sigma = s[-1]\n",
    "    if sigma < (k - 1) and a_dagger(x + [sigma + 1]):\n",
    "        return [sigma + 1] + x\n",
    "    elif a_dagger(x + [sigma]):\n",
    "        return [0] + x\n",
    "    else:\n",
    "        return [sigma] + x\n",
    "\n",
    "\n",
    "def next(s):\n",
    "    n = len(s)\n",
    "    x = s[1:]\n",
    "    sigma = s[0]\n",
    "    S = [tau for tau in range(1, k) if a_dagger(x + [tau])]\n",
    "\n",
    "    if sigma > 0 and a_dagger(x + [sigma]):\n",
    "        return x + [sigma - 1]\n",
    "    elif sigma == 0 and len(S) != 0:\n",
    "        return x + [max(S)]\n",
    "    else:\n",
    "        return x + [sigma]\n",
    "\n",
    "\n",
    "# Test that the two rules are reverse of each other\n",
    "k, n = 3, 5\n",
    "sequence = []\n",
    "\n",
    "s = [0 for i in range(n)]\n",
    "for i in range(k ** n):\n",
    "    sequence.append(s)\n",
    "    s = shift(s)\n",
    "\n",
    "s = [0 for i in range(n - 1)] + [k - 1]\n",
    "for i in range(k ** n):\n",
    "    assert (sequence[-i - 1] == s), \"i={}, sequence[-i]={}, s={}\".format(i, sequence[-i - 1], s)\n",
    "    s = next(s)"
   ]
  },
  {
   "cell_type": "code",
   "execution_count": null,
   "metadata": {},
   "outputs": [],
   "source": []
  }
 ],
 "metadata": {
  "kernelspec": {
   "display_name": "Python 3",
   "language": "python",
   "name": "python3"
  },
  "language_info": {
   "codemirror_mode": {
    "name": "ipython",
    "version": 3
   },
   "file_extension": ".py",
   "mimetype": "text/x-python",
   "name": "python",
   "nbconvert_exporter": "python",
   "pygments_lexer": "ipython3",
   "version": "3.7.4"
  },
  "toc": {
   "base_numbering": 1,
   "nav_menu": {},
   "number_sections": true,
   "sideBar": true,
   "skip_h1_title": true,
   "title_cell": "Table of Contents",
   "title_sidebar": "Contents",
   "toc_cell": true,
   "toc_position": {},
   "toc_section_display": true,
   "toc_window_display": false
  },
  "varInspector": {
   "cols": {
    "lenName": 16,
    "lenType": 16,
    "lenVar": 40
   },
   "kernels_config": {
    "python": {
     "delete_cmd_postfix": "",
     "delete_cmd_prefix": "del ",
     "library": "var_list.py",
     "varRefreshCmd": "print(var_dic_list())"
    },
    "r": {
     "delete_cmd_postfix": ") ",
     "delete_cmd_prefix": "rm(",
     "library": "var_list.r",
     "varRefreshCmd": "cat(var_dic_list()) "
    }
   },
   "types_to_exclude": [
    "module",
    "function",
    "builtin_function_or_method",
    "instance",
    "_Feature"
   ],
   "window_display": true
  }
 },
 "nbformat": 4,
 "nbformat_minor": 4
}
